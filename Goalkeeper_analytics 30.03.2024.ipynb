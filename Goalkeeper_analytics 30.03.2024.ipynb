{
 "cells": [
  {
   "cell_type": "code",
   "execution_count": 0,
   "metadata": {
    "application/vnd.databricks.v1+cell": {
     "cellMetadata": {
      "byteLimit": 2048000,
      "rowLimit": 10000
     },
     "inputWidgets": {},
     "nuid": "6ba1a075-4120-4901-8398-37912e67ef16",
     "showTitle": false,
     "title": ""
    }
   },
   "outputs": [
    {
     "output_type": "display_data",
     "data": {
      "application/vnd.databricks.v1+bamboolib_hint": "{\"pd.DataFrames\": [], \"version\": \"0.0.1\"}",
      "text/plain": []
     },
     "metadata": {},
     "output_type": "display_data"
    }
   ],
   "source": [
    "import numpy as np\n",
    "import matplotlib.pyplot as plt\n",
    "import pandas as pd\n",
    "from pyspark.sql.types import IntegerType\n",
    "import pyspark.sql.functions as F\n",
    "from pyspark.sql.window import Window\n",
    "from pyspark.sql import SparkSession\n",
    "\n",
    "spark = SparkSession.builder.appName(\"goalkeeper_analytics\").getOrCreate()"
   ]
  },
  {
   "cell_type": "code",
   "execution_count": 0,
   "metadata": {
    "application/vnd.databricks.v1+cell": {
     "cellMetadata": {
      "byteLimit": 2048000,
      "rowLimit": 10000
     },
     "inputWidgets": {},
     "nuid": "e90e7364-d123-44c8-b924-af26e77922e2",
     "showTitle": false,
     "title": ""
    }
   },
   "outputs": [],
   "source": [
    "df = spark.read.csv(\n",
    "   path='dbfs:/FileStore/tables/23_24_goalkeeping_stats',\n",
    "   sep=',',\n",
    "   header=True,\n",
    "   inferSchema=True,\n",
    ")"
   ]
  },
  {
   "cell_type": "code",
   "execution_count": 0,
   "metadata": {
    "application/vnd.databricks.v1+cell": {
     "cellMetadata": {
      "byteLimit": 2048000,
      "rowLimit": 10000
     },
     "inputWidgets": {},
     "nuid": "80718cdd-e0bc-4a25-9f18-a8b1c36d9758",
     "showTitle": false,
     "title": ""
    }
   },
   "outputs": [],
   "source": [
    "df1 = spark.read.csv(\n",
    "   path='dbfs:/FileStore/tables/23_24_adv_goalkeeping_stats',\n",
    "   sep=',',\n",
    "   header=True,\n",
    "   inferSchema=True,\n",
    ")"
   ]
  },
  {
   "cell_type": "markdown",
   "metadata": {
    "application/vnd.databricks.v1+cell": {
     "cellMetadata": {
      "byteLimit": 2048000,
      "rowLimit": 10000
     },
     "inputWidgets": {},
     "nuid": "d43e7cc6-6804-4468-bb47-a63d6db9e284",
     "showTitle": false,
     "title": ""
    }
   },
   "source": [
    "\n",
    "### Data Transformation"
   ]
  },
  {
   "cell_type": "code",
   "execution_count": 0,
   "metadata": {
    "application/vnd.databricks.v1+cell": {
     "cellMetadata": {
      "byteLimit": 2048000,
      "rowLimit": 10000
     },
     "inputWidgets": {},
     "nuid": "ff96b731-a67f-4bba-a613-d18e1ba0b065",
     "showTitle": false,
     "title": ""
    }
   },
   "outputs": [],
   "source": [
    "cols = ['Player', 'Pos', 'Squad', 'Comp', 'Age', 'Born', 'MP', 'Starts', 'GA90', 'Save%16', 'CS%']\n",
    "df = (df.select(cols)\n",
    "      .withColumnRenamed('Save%16', 'Save_percentage').withColumnRenamed('CS%', 'clean_sheet_percentage')\n",
    "      .withColumn(\"Age\", F.split(df['Age'], '-').getItem(0).cast(IntegerType()))\n",
    "      .filter(F.col('mp') > 20))"
   ]
  },
  {
   "cell_type": "code",
   "execution_count": 0,
   "metadata": {
    "application/vnd.databricks.v1+cell": {
     "cellMetadata": {
      "byteLimit": 2048000,
      "rowLimit": 10000
     },
     "inputWidgets": {},
     "nuid": "85563eef-0f8f-4010-918f-4aaef76fded7",
     "showTitle": false,
     "title": ""
    }
   },
   "outputs": [],
   "source": [
    "cols_to_keep = ['Player', '/90', 'Stp%']\n",
    "df1 = (df1.select(cols_to_keep)\n",
    "       .withColumnRenamed('/90', 'post_shot_exp_goals')\n",
    "       .withColumnRenamed('Stp%', 'crosses_stopped_percentage'))"
   ]
  },
  {
   "cell_type": "code",
   "execution_count": 0,
   "metadata": {
    "application/vnd.databricks.v1+cell": {
     "cellMetadata": {
      "byteLimit": 2048000,
      "rowLimit": 10000
     },
     "inputWidgets": {},
     "nuid": "4345ab60-d579-4967-a1eb-f64c847ae8c7",
     "showTitle": false,
     "title": ""
    }
   },
   "outputs": [
    {
     "output_type": "stream",
     "name": "stdout",
     "output_type": "stream",
     "text": [
      "Out[6]: DataFrame[player: string, pos: string, squad: string, comp: string, age: int, born: int, mp: int, starts: int, ga90: double, save_percentage: double, clean_sheet_percentage: double, post_shot_exp_goals: double, crosses_stopped_percentage: double]"
     ]
    }
   ],
   "source": [
    "df = df.join(df1, on='player', how='inner')\n",
    "df.toDF(*[x.lower() for x in df.columns])"
   ]
  },
  {
   "cell_type": "markdown",
   "metadata": {
    "application/vnd.databricks.v1+cell": {
     "cellMetadata": {
      "byteLimit": 2048000,
      "rowLimit": 10000
     },
     "inputWidgets": {},
     "nuid": "19ddbad2-9713-42ce-b8fb-5ddd2cbc13f1",
     "showTitle": false,
     "title": ""
    }
   },
   "source": [
    "#### Weighting Factors"
   ]
  },
  {
   "cell_type": "code",
   "execution_count": 0,
   "metadata": {
    "application/vnd.databricks.v1+cell": {
     "cellMetadata": {
      "byteLimit": 2048000,
      "rowLimit": 10000
     },
     "inputWidgets": {},
     "nuid": "68d46872-f699-4aa0-b9e3-bdc696836e00",
     "showTitle": false,
     "title": ""
    }
   },
   "outputs": [],
   "source": [
    "save_percentage_weight = 0.3\n",
    "clean_sheet_percentage_weight = 0.25\n",
    "goals_aganist_per_90_weight = 0.2\n",
    "crosses_stopped_weight = 0.1\n",
    "psxg_ga_per_90 = 0.15"
   ]
  },
  {
   "cell_type": "code",
   "execution_count": 0,
   "metadata": {
    "application/vnd.databricks.v1+cell": {
     "cellMetadata": {
      "byteLimit": 2048000,
      "rowLimit": 10000
     },
     "inputWidgets": {},
     "nuid": "6e19468d-ab69-44d7-98f2-597fe0010652",
     "showTitle": false,
     "title": ""
    }
   },
   "outputs": [],
   "source": [
    "windowSpec = Window.orderBy(F.desc(\"WeightedScore\"))\n",
    "\n",
    "df = (df.withColumn(\"WeightedScore\", \n",
    "        (F.col('save_percentage') * save_percentage_weight) \n",
    "        + (F.col('clean_sheet_percentage') * clean_sheet_percentage_weight) \n",
    "        + (F.col('ga90') * goals_aganist_per_90_weight) \n",
    "        + (F.col('crosses_stopped_percentage') * crosses_stopped_weight) \n",
    "        + (F.col('post_shot_exp_goals') * psxg_ga_per_90))\n",
    "      .withColumn(\"Rank\", F.dense_rank().over(window=windowSpec)))"
   ]
  },
  {
   "cell_type": "code",
   "execution_count": 0,
   "metadata": {
    "application/vnd.databricks.v1+cell": {
     "cellMetadata": {
      "byteLimit": 2048000,
      "rowLimit": 10000
     },
     "inputWidgets": {},
     "nuid": "44ea10fc-5174-47a9-aee8-4ff5e4e7dd30",
     "showTitle": false,
     "title": ""
    }
   },
   "outputs": [
    {
     "output_type": "stream",
     "name": "stdout",
     "output_type": "stream",
     "text": [
      "+--------------------+---+-------------+-------------+---+----+---+------+----+---------------+----------------------+-------------------+--------------------------+------------------+----+\n|              Player|Pos|        Squad|         Comp|Age|Born| MP|Starts|GA90|Save_percentage|clean_sheet_percentage|post_shot_exp_goals|crosses_stopped_percentage|     WeightedScore|Rank|\n+--------------------+---+-------------+-------------+---+----+---+------+----+---------------+----------------------+-------------------+--------------------------+------------------+----+\n|         Yann Sommer| GK|        Inter|   it Serie A| 35|1988| 28|    28| 0.5|           83.6|                  60.7|               0.17|                       4.5|           40.8305|   1|\n|Vanja Milinković-...| GK|       Torino|   it Serie A| 27|1997| 28|    28|0.86|           81.5|                  50.0|               0.07|                       9.3|           38.0625|   2|\n|        Marcin Bułka| GK|         Nice|   fr Ligue 1| 24|1999| 26|    26|0.77|           77.3|                  53.8|               0.16|                       6.9|            37.508|   3|\n|     Lucas Chevalier| GK|        Lille|   fr Ligue 1| 22|2001| 26|    26|0.88|           77.4|                  53.8|               0.23|                       5.2| 37.40050000000001|   4|\n|      Lukáš Hrádecký| GK|   Leverkusen|de Bundesliga| 34|1989| 25|    25|0.72|           78.6|                  48.0|               0.14|                       8.7|36.614999999999995|   5|\n|         Brice Samba| GK|         Lens|   fr Ligue 1| 29|1994| 26|    26|1.04|           78.8|                  46.2|               0.34|                       9.1|36.358999999999995|   6|\n|          Unai Simón| GK|Athletic Club|   es La Liga| 26|1997| 29|    29| 0.9|           74.3|                  51.7|               0.24|                       6.4|36.071000000000005|   7|\n|Gianluigi Donnarumma| GK|    Paris S-G|   fr Ligue 1| 25|1999| 22|    22|0.85|           83.0|                  40.9|               0.44|                       5.3|35.891000000000005|   8|\n| Michele Di Gregorio| GK|        Monza|   it Serie A| 26|1997| 26|    26|0.92|           81.6|                  42.3|               0.24|                       4.3| 35.70499999999999|   9|\n|         Marco Bizot| GK|        Brest|   fr Ligue 1| 33|1991| 24|    24|0.83|           80.2|                  41.7|               0.24|                       5.8|35.266999999999996|  10|\n+--------------------+---+-------------+-------------+---+----+---+------+----+---------------+----------------------+-------------------+--------------------------+------------------+----+\nonly showing top 10 rows\n\n"
     ]
    }
   ],
   "source": [
    "df.show(10)"
   ]
  },
  {
   "cell_type": "markdown",
   "metadata": {
    "application/vnd.databricks.v1+cell": {
     "cellMetadata": {
      "byteLimit": 2048000,
      "rowLimit": 10000
     },
     "inputWidgets": {},
     "nuid": "b4251e6d-92ee-4652-b624-a9c1c58df484",
     "showTitle": false,
     "title": ""
    }
   },
   "source": [
    "#### Bar chart"
   ]
  },
  {
   "cell_type": "code",
   "execution_count": 0,
   "metadata": {
    "application/vnd.databricks.v1+cell": {
     "cellMetadata": {
      "byteLimit": 2048000,
      "rowLimit": 10000
     },
     "inputWidgets": {},
     "nuid": "4232cee9-b325-4e40-a34e-6e5bb9c91d7e",
     "showTitle": false,
     "title": ""
    }
   },
   "outputs": [
    {
     "output_type": "display_data",
     "data": {
      "image/png": "[encoded data removed]"
     },
     "metadata": {
      "application/vnd.databricks.v1+output": {
       "addedWidgets": {},
       "arguments": {},
       "data": "data:image/png;base64,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\n",
       "datasetInfos": [],
       "metadata": {},
       "removedWidgets": [],
       "type": "image"
      }
     },
     "output_type": "display_data"
    }
   ],
   "source": [
    "df_barh = df.orderBy(F.col(\"WeightedScore\").desc()).limit(7).toPandas()\n",
    "\n",
    "fig, ax = plt.subplots(figsize=(4,8))\n",
    "ax.barh(df_barh['Player'], df_barh['WeightedScore'], color='#006BA2')\n",
    "ax.invert_yaxis()\n",
    "ax.spines[['top', 'right', 'bottom']].set_visible(False)\n",
    "ax.spines['left'].set_linewidth(1.1)\n",
    "ax.xaxis.set_tick_params(labeltop=True, labelbottom=False, bottom=False, labelsize=11, pad=-1)\n",
    "\n",
    "y_ticks = range(len(df_barh['Player']))\n",
    "\n",
    "ax.set_yticks(y_ticks) \n",
    "ax.set_yticklabels(df_barh['Player'], ha='left') \n",
    "\n",
    "ax.yaxis.set_tick_params(pad=100, labelsize=9, bottom=False)\n",
    "\n",
    "ax.text(x=-.35, y=.96, s=\"In Safe Hands\", transform=fig.transFigure, ha='left', fontsize=13, weight='bold', alpha=.8)\n",
    "ax.text(x=-.35, y=.925, s=\"Goalkeeper Rankings: A Comprehensive Score from Key Performance Indicators\", transform=fig.transFigure, ha='left', fontsize=11, alpha=.8)\n",
    "\n",
    "ax.text(x=-.35, y=.08, s=\"\"\"Source: Fbref\"\"\", transform=fig.transFigure, ha='left', fontsize=9, alpha=.7)\n",
    "\n",
    "plt.gcf().set_facecolor('white')"
   ]
  }
 ],
 "metadata": {
  "application/vnd.databricks.v1+notebook": {
   "dashboards": [],
   "language": "python",
   "notebookMetadata": {
    "pythonIndentUnit": 4
   },
   "notebookName": "Goalkeeper_analytics 30.03.2024",
   "widgets": {}
  }
 },
 "nbformat": 4,
 "nbformat_minor": 0
}
