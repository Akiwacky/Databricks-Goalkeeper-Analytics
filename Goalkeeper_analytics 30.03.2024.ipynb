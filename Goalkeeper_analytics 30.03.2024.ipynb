{
 "cells": [
  {
   "cell_type": "code",
   "execution_count": 0,
   "metadata": {
    "application/vnd.databricks.v1+cell": {
     "cellMetadata": {
      "byteLimit": 2048000,
      "rowLimit": 10000
     },
     "inputWidgets": {},
     "nuid": "6ba1a075-4120-4901-8398-37912e67ef16",
     "showTitle": false,
     "title": ""
    }
   },
   "outputs": [],
   "source": [
    "import numpy as np \n",
    "from pyspark.sql.types import IntegerType\n",
    "import pyspark.sql.functions as F\n",
    "from pyspark.sql.window import Window\n",
    "from pyspark.sql import SparkSession\n",
    "\n",
    "spark = SparkSession.builder.appName(\"goalkeeper_analytics\").getOrCreate()"
   ]
  },
  {
   "cell_type": "code",
   "execution_count": 0,
   "metadata": {
    "application/vnd.databricks.v1+cell": {
     "cellMetadata": {
      "byteLimit": 2048000,
      "rowLimit": 10000
     },
     "inputWidgets": {},
     "nuid": "e90e7364-d123-44c8-b924-af26e77922e2",
     "showTitle": false,
     "title": ""
    }
   },
   "outputs": [],
   "source": [
    "df = spark.read.csv(\n",
    "   path='dbfs:/FileStore/tables/23_24_goalkeeping_stats',\n",
    "   sep=',',\n",
    "   header=True,\n",
    "   inferSchema=True,\n",
    ")"
   ]
  },
  {
   "cell_type": "code",
   "execution_count": 0,
   "metadata": {
    "application/vnd.databricks.v1+cell": {
     "cellMetadata": {
      "byteLimit": 2048000,
      "rowLimit": 10000
     },
     "inputWidgets": {},
     "nuid": "80718cdd-e0bc-4a25-9f18-a8b1c36d9758",
     "showTitle": false,
     "title": ""
    }
   },
   "outputs": [],
   "source": [
    "df1 = spark.read.csv(\n",
    "   path='dbfs:/FileStore/tables/23_24_adv_goalkeeping_stats',\n",
    "   sep=',',\n",
    "   header=True,\n",
    "   inferSchema=True,\n",
    ")"
   ]
  },
  {
   "cell_type": "markdown",
   "metadata": {
    "application/vnd.databricks.v1+cell": {
     "cellMetadata": {
      "byteLimit": 2048000,
      "rowLimit": 10000
     },
     "inputWidgets": {},
     "nuid": "d43e7cc6-6804-4468-bb47-a63d6db9e284",
     "showTitle": false,
     "title": ""
    }
   },
   "source": [
    "\n",
    "### Data Transformation"
   ]
  },
  {
   "cell_type": "code",
   "execution_count": 0,
   "metadata": {
    "application/vnd.databricks.v1+cell": {
     "cellMetadata": {
      "byteLimit": 2048000,
      "rowLimit": 10000
     },
     "inputWidgets": {},
     "nuid": "ff96b731-a67f-4bba-a613-d18e1ba0b065",
     "showTitle": false,
     "title": ""
    }
   },
   "outputs": [],
   "source": [
    "cols = ['Player', 'Pos', 'Squad', 'Comp', 'Age', 'Born', 'MP', 'Starts', 'GA90', 'Save%16', 'CS%']\n",
    "df = (df.select(cols)\n",
    "      .withColumnRenamed('Save%16', 'Save_percentage').withColumnRenamed('CS%', 'clean_sheet_percentage')\n",
    "      .withColumn(\"Age\", F.split(df['Age'], '-').getItem(0).cast(IntegerType()))\n",
    "      .filter(F.col('mp') > 20))"
   ]
  },
  {
   "cell_type": "code",
   "execution_count": 0,
   "metadata": {
    "application/vnd.databricks.v1+cell": {
     "cellMetadata": {
      "byteLimit": 2048000,
      "rowLimit": 10000
     },
     "inputWidgets": {},
     "nuid": "85563eef-0f8f-4010-918f-4aaef76fded7",
     "showTitle": false,
     "title": ""
    }
   },
   "outputs": [],
   "source": [
    "cols_to_keep = ['Player', '/90', 'Stp%']\n",
    "df1 = (df1.select(cols_to_keep)\n",
    "       .withColumnRenamed('/90', 'post_shot_exp_goals')\n",
    "       .withColumnRenamed('Stp%', 'crosses_stopped_percentage'))"
   ]
  },
  {
   "cell_type": "code",
   "execution_count": 0,
   "metadata": {
    "application/vnd.databricks.v1+cell": {
     "cellMetadata": {
      "byteLimit": 2048000,
      "rowLimit": 10000
     },
     "inputWidgets": {},
     "nuid": "4345ab60-d579-4967-a1eb-f64c847ae8c7",
     "showTitle": false,
     "title": ""
    }
   },
   "outputs": [
    {
     "output_type": "stream",
     "name": "stdout",
     "output_type": "stream",
     "text": [
      "Out[21]: DataFrame[player: string, pos: string, squad: string, comp: string, age: int, born: int, mp: int, starts: int, ga90: double, save_percentage: double, clean_sheet_percentage: double, post_shot_exp_goals: double, crosses_stopped_percentage: double]"
     ]
    }
   ],
   "source": [
    "df = df.join(df1, on='player', how='inner')\n",
    "df.toDF(*[x.lower() for x in df.columns])"
   ]
  },
  {
   "cell_type": "markdown",
   "metadata": {
    "application/vnd.databricks.v1+cell": {
     "cellMetadata": {},
     "inputWidgets": {},
     "nuid": "19ddbad2-9713-42ce-b8fb-5ddd2cbc13f1",
     "showTitle": false,
     "title": ""
    }
   },
   "source": [
    "#### Weighting Factors"
   ]
  },
  {
   "cell_type": "code",
   "execution_count": 0,
   "metadata": {
    "application/vnd.databricks.v1+cell": {
     "cellMetadata": {
      "byteLimit": 2048000,
      "rowLimit": 10000
     },
     "inputWidgets": {},
     "nuid": "68d46872-f699-4aa0-b9e3-bdc696836e00",
     "showTitle": false,
     "title": ""
    }
   },
   "outputs": [],
   "source": [
    "save_percentage_weight = 0.3\n",
    "clean_sheet_percentage_weight = 0.25\n",
    "goals_aganist_per_90_weight = 0.2\n",
    "crosses_stopped_weight = 0.1\n",
    "psxg_ga_per_90 = 0.15"
   ]
  },
  {
   "cell_type": "code",
   "execution_count": 0,
   "metadata": {
    "application/vnd.databricks.v1+cell": {
     "cellMetadata": {
      "byteLimit": 2048000,
      "rowLimit": 10000
     },
     "inputWidgets": {},
     "nuid": "6e19468d-ab69-44d7-98f2-597fe0010652",
     "showTitle": false,
     "title": ""
    }
   },
   "outputs": [],
   "source": [
    "windowSpec = Window.orderBy(F.desc(\"WeightedScore\"))\n",
    "\n",
    "df = (df.withColumn(\"WeightedScore\", \n",
    "        (F.col('save_percentage') * save_percentage_weight) \n",
    "        + (F.col('clean_sheet_percentage') * clean_sheet_percentage_weight) \n",
    "        + (F.col('ga90') * goals_aganist_per_90_weight) \n",
    "        + (F.col('crosses_stopped_percentage') * crosses_stopped_weight) \n",
    "        + (F.col('post_shot_exp_goals') * psxg_ga_per_90))\n",
    "      .withColumn(\"Rank\", F.dense_rank().over(window=windowSpec)))"
   ]
  },
  {
   "cell_type": "code",
   "execution_count": 0,
   "metadata": {
    "application/vnd.databricks.v1+cell": {
     "cellMetadata": {
      "byteLimit": 2048000,
      "rowLimit": 10000
     },
     "inputWidgets": {},
     "nuid": "44ea10fc-5174-47a9-aee8-4ff5e4e7dd30",
     "showTitle": false,
     "title": ""
    }
   },
   "outputs": [
    {
     "output_type": "stream",
     "name": "stdout",
     "output_type": "stream",
     "text": [
      "+--------------------+---+-------------+-------------+---+----+---+------+----+---------------+----------------------+-------------------+--------------------------+------------------+----+\n|              Player|Pos|        Squad|         Comp|Age|Born| MP|Starts|GA90|Save_percentage|clean_sheet_percentage|post_shot_exp_goals|crosses_stopped_percentage|     WeightedScore|Rank|\n+--------------------+---+-------------+-------------+---+----+---+------+----+---------------+----------------------+-------------------+--------------------------+------------------+----+\n|         Yann Sommer| GK|        Inter|   it Serie A| 35|1988| 28|    28| 0.5|           83.6|                  60.7|               0.17|                       4.5|           40.8305|   1|\n|Vanja Milinković-...| GK|       Torino|   it Serie A| 27|1997| 28|    28|0.86|           81.5|                  50.0|               0.07|                       9.3|           38.0625|   2|\n|        Marcin Bułka| GK|         Nice|   fr Ligue 1| 24|1999| 26|    26|0.77|           77.3|                  53.8|               0.16|                       6.9|            37.508|   3|\n|     Lucas Chevalier| GK|        Lille|   fr Ligue 1| 22|2001| 26|    26|0.88|           77.4|                  53.8|               0.23|                       5.2| 37.40050000000001|   4|\n|      Lukáš Hrádecký| GK|   Leverkusen|de Bundesliga| 34|1989| 25|    25|0.72|           78.6|                  48.0|               0.14|                       8.7|36.614999999999995|   5|\n|         Brice Samba| GK|         Lens|   fr Ligue 1| 29|1994| 26|    26|1.04|           78.8|                  46.2|               0.34|                       9.1|36.358999999999995|   6|\n|          Unai Simón| GK|Athletic Club|   es La Liga| 26|1997| 29|    29| 0.9|           74.3|                  51.7|               0.24|                       6.4|36.071000000000005|   7|\n|Gianluigi Donnarumma| GK|    Paris S-G|   fr Ligue 1| 25|1999| 22|    22|0.85|           83.0|                  40.9|               0.44|                       5.3|35.891000000000005|   8|\n| Michele Di Gregorio| GK|        Monza|   it Serie A| 26|1997| 26|    26|0.92|           81.6|                  42.3|               0.24|                       4.3| 35.70499999999999|   9|\n|         Marco Bizot| GK|        Brest|   fr Ligue 1| 33|1991| 24|    24|0.83|           80.2|                  41.7|               0.24|                       5.8|35.266999999999996|  10|\n+--------------------+---+-------------+-------------+---+----+---+------+----+---------------+----------------------+-------------------+--------------------------+------------------+----+\nonly showing top 10 rows\n\n"
     ]
    }
   ],
   "source": [
    "df.show(10)"
   ]
  }
 ],
 "metadata": {
  "application/vnd.databricks.v1+notebook": {
   "dashboards": [],
   "language": "python",
   "notebookMetadata": {
    "pythonIndentUnit": 4
   },
   "notebookName": "Goalkeeper_analytics 30.03.2024",
   "widgets": {}
  }
 },
 "nbformat": 4,
 "nbformat_minor": 0
}
